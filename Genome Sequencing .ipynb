{
 "cells": [
  {
   "cell_type": "markdown",
   "id": "df52ca5d",
   "metadata": {},
   "source": [
    "This code will check the that how many times does ATGAG or its reverse complement occur in the HIV virus genome"
   ]
  },
  {
   "cell_type": "code",
   "execution_count": 6,
   "id": "471ac4cb",
   "metadata": {},
   "outputs": [],
   "source": [
    "# Read genome from FASTA FILE \n",
    "\n",
    "def readGenome(filename):\n",
    "    genome = ''\n",
    "    with open(filename, 'r') as f:\n",
    "        for line in f:#read file line by line\n",
    "            if not line[0] == '>':\n",
    "                genome +=line.rstrip()#rstrip trims the white spaces\n",
    "    return genome"
   ]
  },
  {
   "cell_type": "code",
   "execution_count": 11,
   "id": "00b54ccc",
   "metadata": {},
   "outputs": [
    {
     "data": {
      "text/plain": [
       "'ATGAGTGAAGAGGAGCAAGGCTCCGGCACTACCACGGGCTGCGGGCTGCCTAGTATAGAGCAAATGCTGGCCGCCAACCCAGGCAAGACCCCGATCAGCCTTCTGCAGGAGTATGGGACCAGAATAGGGAAGACGCCTGTGTACGACCTTCTCAAAGCCGAGGGCCAAGCCCACCAGCCTAATTTCACCTTCCGGGTCACCGTTGGCGACACCAGCTGCACTGGTCAGGGCCCCAGCAAGAAGGCAGCCAAGCACAAGGCAGCTGAGGTGGCCCTCAAACACCTCAAAGGGGGGAGCATGCTGGAGCCGGCCCTGGAGGACAGCAGTTCTTTTTCTCCCCTAGACTCTTCACTGCCTGAGGACATTCCGGTTTTTACTGCTGCAGCAGCTGCTACCCCAGTTCCATCTGTAGTCCTAACCAGGAGCCCCCCCATGGAACTGCAGCCCCCTGTCTCCCCTCAGCAGTCTGAGTGCAACCCCGTTGGTGCTCTGCAGGAGCTGGTGGTGCAGAAAGGCTGGCGGTTGCCGGAGTACACAGTGACCCAGGAGTCTGGGCCAGCCCACCGCAAAGAATTCACCATGACCTGTCGAGTGGAGCGTTTCATTGAGATTGGGAGTGGCACTTCCAAAAAATTGGCAAAGCGGAATGCGGCGGCCAAAATGCTGCTTCGAGTGCACACGGTGCCTCTGGATGCCCGGGATGGCAATGAGGTGGAGCCTGATGATGACCACTTCTCCATTGGTGTGGGCTCCCGCCTGGATGGTCTTCGAAACCGGGGCCCAGGTTGCACCTGGGATTCTCTACGAAATTCAGTAGGAGAGAAGATCCTGTCCCTCCGCAGTTGCTCCCTGGGCTCCCTGGGTGCCCTGGGCCCTGCCTGCTGCCGTGTCCTCAGTGAGCTCTCTGAGGAGCAGGCCTTTCACGTCAGCTACCTGGATATTGAGGAGCTGAGCCTGAGTGGACTCTGCCAGTGCCTGGTGGAACTGTCCACCCAGCCGGCCACTGTGTGTCATGGCTCTGCAACCACCAGGGAGGCAGCCCGTGGTGAGGCTGCCCGCCGTGCCCTGCAGTACCTCAAGATCATGGCAGGCAGCAAGTTG'"
      ]
     },
     "execution_count": 11,
     "metadata": {},
     "output_type": "execute_result"
    }
   ],
   "source": [
    "file = 'C:/Users/Asus/Downloads/HIVsequence.txt'\n",
    "genome = readGenome(file)\n",
    "genome"
   ]
  },
  {
   "cell_type": "code",
   "execution_count": 13,
   "id": "e71e861e",
   "metadata": {},
   "outputs": [],
   "source": [
    "#use naive algorithm or exact matching algorithm to find the complemntary region\n",
    "def naive(p, t):\n",
    "    occurrences = []\n",
    "    for i in range(len(t) - len(p) + 1):  # loop over alignments\n",
    "        match = True\n",
    "        for j in range(len(p)):  # loop over characters\n",
    "            if t[i+j] != p[j]:  # compare characters\n",
    "                match = False\n",
    "                break\n",
    "        if match:\n",
    "            occurrences.append(i)  # all chars matched; record\n",
    "    return occurrences"
   ]
  },
  {
   "cell_type": "code",
   "execution_count": 15,
   "id": "90dfac29",
   "metadata": {},
   "outputs": [
    {
     "name": "stdout",
     "output_type": "stream",
     "text": [
      "2\n"
     ]
    }
   ],
   "source": [
    "complement = print(len(naive('ATGAG', genome)))"
   ]
  },
  {
   "cell_type": "code",
   "execution_count": 16,
   "id": "95842b80",
   "metadata": {},
   "outputs": [
    {
     "name": "stdout",
     "output_type": "stream",
     "text": [
      "CTCAT\n",
      "0\n"
     ]
    }
   ],
   "source": [
    "# function for reverse complemetary\n",
    "def reversecomplementseq(s):\n",
    "    complement = {'A':'T', 'G':'C', 'T':'A', 'C':'G'}\n",
    "    emptystring = ''\n",
    "    for base in s:\n",
    "        emptystring = complement[base] +emptystring\n",
    "    return emptystring\n",
    "reverse = reversecomplementseq('ATGAG')\n",
    "print(reverse)\n",
    "print(len(naive(reverse, genome)))"
   ]
  },
  {
   "cell_type": "code",
   "execution_count": 17,
   "id": "6d4409bd",
   "metadata": {},
   "outputs": [
    {
     "name": "stdout",
     "output_type": "stream",
     "text": [
      "3\n"
     ]
    }
   ],
   "source": [
    "get_count  = 0\n",
    "get_count = get_count+(len(naive(reverse, genome)))\n",
    "get_count = get_count+ (len(naive('AGGT', genome)))\n",
    "print(get_count)"
   ]
  },
  {
   "cell_type": "code",
   "execution_count": null,
   "id": "d2120863",
   "metadata": {},
   "outputs": [],
   "source": []
  }
 ],
 "metadata": {
  "kernelspec": {
   "display_name": "Python 3",
   "language": "python",
   "name": "python3"
  },
  "language_info": {
   "codemirror_mode": {
    "name": "ipython",
    "version": 3
   },
   "file_extension": ".py",
   "mimetype": "text/x-python",
   "name": "python",
   "nbconvert_exporter": "python",
   "pygments_lexer": "ipython3",
   "version": "3.8.8"
  }
 },
 "nbformat": 4,
 "nbformat_minor": 5
}
