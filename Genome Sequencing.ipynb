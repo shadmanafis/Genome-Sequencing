{
 "cells": [
  {
   "cell_type": "markdown",
   "id": "df52ca5d",
   "metadata": {},
   "source": [
    "This code will check the that how many times does ATGAG or its reverse complement occur in the HIV virus genome"
   ]
  },
  {
   "cell_type": "code",
   "execution_count": 31,
   "id": "471ac4cb",
   "metadata": {},
   "outputs": [],
   "source": [
    "# Read genome from a file it could be text file or FASTA file\n",
    "\n",
    "def readGenome(filename):\n",
    "    genome = ''\n",
    "    with open(filename, 'r') as f:\n",
    "        for line in f:#read file line by line\n",
    "            if not line[0] == '>':\n",
    "                genome +=line.rstrip()#rstrip trims the white spaces\n",
    "    return genome"
   ]
  },
  {
   "cell_type": "code",
   "execution_count": 32,
   "id": "00b54ccc",
   "metadata": {},
   "outputs": [
    {
     "data": {
      "text/plain": [
       "'ATGAGTGAAGAGGAGCAAGGCTCCGGCACTACCACGGGCTGCGGGCTGCCTAGTATAGAGCAAATGCTGGCCGCCAACCCAGGCAAGACCCCGATCAGCCTTCTGCAGGAGTATGGGACCAGAATAGGGAAGACGCCTGTGTACGACCTTCTCAAAGCCGAGGGCCAAGCCCACCAGCCTAATTTCACCTTCCGGGTCACCGTTGGCGACACCAGCTGCACTGGTCAGGGCCCCAGCAAGAAGGCAGCCAAGCACAAGGCAGCTGAGGTGGCCCTCAAACACCTCAAAGGGGGGAGCATGCTGGAGCCGGCCCTGGAGGACAGCAGTTCTTTTTCTCCCCTAGACTCTTCACTGCCTGAGGACATTCCGGTTTTTACTGCTGCAGCAGCTGCTACCCCAGTTCCATCTGTAGTCCTAACCAGGAGCCCCCCCATGGAACTGCAGCCCCCTGTCTCCCCTCAGCAGTCTGAGTGCAACCCCGTTGGTGCTCTGCAGGAGCTGGTGGTGCAGAAAGGCTGGCGGTTGCCGGAGTACACAGTGACCCAGGAGTCTGGGCCAGCCCACCGCAAAGAATTCACCATGACCTGTCGAGTGGAGCGTTTCATTGAGATTGGGAGTGGCACTTCCAAAAAATTGGCAAAGCGGAATGCGGCGGCCAAAATGCTGCTTCGAGTGCACACGGTGCCTCTGGATGCCCGGGATGGCAATGAGGTGGAGCCTGATGATGACCACTTCTCCATTGGTGTGGGCTCCCGCCTGGATGGTCTTCGAAACCGGGGCCCAGGTTGCACCTGGGATTCTCTACGAAATTCAGTAGGAGAGAAGATCCTGTCCCTCCGCAGTTGCTCCCTGGGCTCCCTGGGTGCCCTGGGCCCTGCCTGCTGCCGTGTCCTCAGTGAGCTCTCTGAGGAGCAGGCCTTTCACGTCAGCTACCTGGATATTGAGGAGCTGAGCCTGAGTGGACTCTGCCAGTGCCTGGTGGAACTGTCCACCCAGCCGGCCACTGTGTGTCATGGCTCTGCAACCACCAGGGAGGCAGCCCGTGGTGAGGCTGCCCGCCGTGCCCTGCAGTACCTCAAGATCATGGCAGGCAGCAAGTTG'"
      ]
     },
     "execution_count": 32,
     "metadata": {},
     "output_type": "execute_result"
    }
   ],
   "source": [
    "# I have download the data file and save it in HIVsequence.txt format\n",
    "#Anyone can download and have to change the directory \n",
    "file = 'C:/Users/Asus/learnpython/Genome-Sequencing/HIVsequence.txt'\n",
    "genome = readGenome(file)\n",
    "genome"
   ]
  },
  {
   "cell_type": "markdown",
   "id": "e454d5b6",
   "metadata": {},
   "source": [
    "## Naïve pattern searching \n",
    "\n",
    "It is the simplest method among other pattern searching algorithms. It checks for all character of the main string to the pattern. This algorithm is helpful for smaller texts. It does not need any pre-processing phases. We can find substring by checking once for the string."
   ]
  },
  {
   "cell_type": "code",
   "execution_count": 33,
   "id": "e71e861e",
   "metadata": {},
   "outputs": [],
   "source": [
    "#use naive algorithm or exact matching algorithm to find the complemntary region\n",
    "def naive(p, t):\n",
    "    occurrences = []\n",
    "    for i in range(len(t) - len(p) + 1):  # loop over alignments\n",
    "        match = True\n",
    "        for j in range(len(p)):  # loop over characters\n",
    "            if t[i+j] != p[j]:  # compare characters\n",
    "                match = False\n",
    "                break\n",
    "        if match:\n",
    "            occurrences.append(i)  # all chars matched; record\n",
    "    return occurrences"
   ]
  },
  {
   "cell_type": "code",
   "execution_count": 34,
   "id": "90dfac29",
   "metadata": {},
   "outputs": [
    {
     "name": "stdout",
     "output_type": "stream",
     "text": [
      "32\n"
     ]
    }
   ],
   "source": [
    "complement = print(len(naive('GGC', genome)))"
   ]
  },
  {
   "cell_type": "code",
   "execution_count": 35,
   "id": "95842b80",
   "metadata": {},
   "outputs": [
    {
     "name": "stdout",
     "output_type": "stream",
     "text": [
      "GCC\n",
      "40\n"
     ]
    }
   ],
   "source": [
    "# function for reverse complemetary\n",
    "#using this function we will get the reverse complementary of a seq.eg:ATGAG get reverse complementary i.e. CTCAT\n",
    "def reversecomplementseq(s):\n",
    "    complement = {'A':'T', 'G':'C', 'T':'A', 'C':'G'}\n",
    "    emptystring = ''\n",
    "    for base in s:\n",
    "        emptystring = complement[base] +emptystring\n",
    "    return emptystring\n",
    "reverse = reversecomplementseq('GGC')\n",
    "print(reverse)\n",
    "print(len(naive(reverse, genome)))"
   ]
  },
  {
   "cell_type": "markdown",
   "id": "b598b701",
   "metadata": {},
   "source": [
    "Ans. The complement of GGC occur 32 times and its reverse complement occur in the HIV virus genome is 40."
   ]
  },
  {
   "cell_type": "code",
   "execution_count": null,
   "id": "bf4ae0f6",
   "metadata": {},
   "outputs": [],
   "source": []
  }
 ],
 "metadata": {
  "kernelspec": {
   "display_name": "Python 3",
   "language": "python",
   "name": "python3"
  },
  "language_info": {
   "codemirror_mode": {
    "name": "ipython",
    "version": 3
   },
   "file_extension": ".py",
   "mimetype": "text/x-python",
   "name": "python",
   "nbconvert_exporter": "python",
   "pygments_lexer": "ipython3",
   "version": "3.8.8"
  }
 },
 "nbformat": 4,
 "nbformat_minor": 5
}
